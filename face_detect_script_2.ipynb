{
 "cells": [
  {
   "cell_type": "code",
   "execution_count": 23,
   "metadata": {},
   "outputs": [],
   "source": [
    "import face_recognition\n",
    "import glob\n",
    "from os.path import join\n",
    "import numpy as np"
   ]
  },
  {
   "cell_type": "code",
   "execution_count": 32,
   "metadata": {},
   "outputs": [],
   "source": [
    "def get_image_name_from_path(image_path):\n",
    "    output_image_name = image_path.split(\"/\")[-1]\n",
    "    person_name = output_image_name.split(\".\")[0]\n",
    "    return person_name"
   ]
  },
  {
   "cell_type": "code",
   "execution_count": 15,
   "metadata": {},
   "outputs": [
    {
     "name": "stdout",
     "output_type": "stream",
     "text": [
      "['images/train/obama.jpg']\n",
      "['images/test/test_2.jpg', 'images/test/test_1.jpg']\n"
     ]
    }
   ],
   "source": [
    "train_images_dir = join(\"images\", \"train\")\n",
    "train_images = glob.glob(join(train_images_dir, \"*.jpg\"))\n",
    "print(train_images)\n",
    "\n",
    "test_images_dir = join(\"images\", \"test\")\n",
    "test_images = glob.glob(join(test_images_dir, \"*.jpg\"))\n",
    "print(test_images)"
   ]
  },
  {
   "cell_type": "code",
   "execution_count": 20,
   "metadata": {},
   "outputs": [],
   "source": [
    "train_image_models = []\n",
    "for train_image in train_images:\n",
    "    train_image_model = face_recognition.load_image_file(train_image)\n",
    "    train_image_encoding = face_recognition.face_encodings(train_image_model)[0]\n",
    "    train_image_models.append(train_image_encoding)"
   ]
  },
  {
   "cell_type": "code",
   "execution_count": 35,
   "metadata": {},
   "outputs": [
    {
     "name": "stdout",
     "output_type": "stream",
     "text": [
      "test_2 is Unknown\n",
      "test_1 is obama\n"
     ]
    }
   ],
   "source": [
    "for test_image in test_images:\n",
    "    test_image_model = face_recognition.load_image_file(test_image)\n",
    "    test_image_encoding = face_recognition.face_encodings(test_image_model)[0]\n",
    "    face_distances = face_recognition.face_distance(train_image_models, test_image_encoding)\n",
    "    test_image_name = get_image_name_from_path(test_image)\n",
    "    min_face_distance_idx = np.argmin(face_distances)\n",
    "    if face_distances[min_face_distance_idx] <= 0.5:\n",
    "        correct_image_name = get_image_name_from_path(train_images[min_face_distance_idx])\n",
    "        print(\"{} is {}\".format(test_image_name,correct_image_name))\n",
    "    else:\n",
    "        print(\"{} is Unknown\".format(test_image_name))"
   ]
  },
  {
   "cell_type": "code",
   "execution_count": null,
   "metadata": {},
   "outputs": [],
   "source": []
  }
 ],
 "metadata": {
  "kernelspec": {
   "display_name": "Python 3",
   "language": "python",
   "name": "python3"
  },
  "language_info": {
   "codemirror_mode": {
    "name": "ipython",
    "version": 3
   },
   "file_extension": ".py",
   "mimetype": "text/x-python",
   "name": "python",
   "nbconvert_exporter": "python",
   "pygments_lexer": "ipython3",
   "version": "3.6.3"
  }
 },
 "nbformat": 4,
 "nbformat_minor": 2
}
