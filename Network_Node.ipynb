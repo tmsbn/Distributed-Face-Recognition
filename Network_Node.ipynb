{
 "cells": [
  {
   "cell_type": "code",
   "execution_count": 1,
   "metadata": {},
   "outputs": [],
   "source": [
    "import face_recognition\n",
    "import glob\n",
    "from os.path import join\n",
    "import numpy as np"
   ]
  },
  {
   "cell_type": "markdown",
   "metadata": {},
   "source": [
    "### Constants"
   ]
  },
  {
   "cell_type": "code",
   "execution_count": 9,
   "metadata": {},
   "outputs": [],
   "source": [
    "THRESHOLD = 0.5"
   ]
  },
  {
   "cell_type": "markdown",
   "metadata": {},
   "source": [
    "### Functions"
   ]
  },
  {
   "cell_type": "code",
   "execution_count": 2,
   "metadata": {},
   "outputs": [],
   "source": [
    "def get_image_name_from_path(image_path):\n",
    "    output_image_name = image_path.split(\"/\")[-1]\n",
    "    person_name = output_image_name.split(\".\")[0]\n",
    "    return person_name"
   ]
  },
  {
   "cell_type": "markdown",
   "metadata": {},
   "source": [
    "### Load the train and test images"
   ]
  },
  {
   "cell_type": "code",
   "execution_count": 8,
   "metadata": {},
   "outputs": [],
   "source": [
    "train_images_dir = join(\"images\", \"train\")\n",
    "train_images = glob.glob(join(train_images_dir, \"*.jpg\"))\n",
    "\n",
    "test_images_dir = join(\"images\", \"test\")\n",
    "test_images = glob.glob(join(test_images_dir, \"*.jpg\"))"
   ]
  },
  {
   "cell_type": "markdown",
   "metadata": {},
   "source": [
    "### Train the models with training data"
   ]
  },
  {
   "cell_type": "code",
   "execution_count": 4,
   "metadata": {},
   "outputs": [],
   "source": [
    "train_image_models = []\n",
    "for train_image in train_images:\n",
    "    train_image_model = face_recognition.load_image_file(train_image)\n",
    "    train_image_encoding = face_recognition.face_encodings(train_image_model)[0]\n",
    "    train_image_models.append(train_image_encoding)"
   ]
  },
  {
   "cell_type": "markdown",
   "metadata": {},
   "source": [
    "### Test the models with training data"
   ]
  },
  {
   "cell_type": "code",
   "execution_count": 5,
   "metadata": {},
   "outputs": [
    {
     "name": "stdout",
     "output_type": "stream",
     "text": [
      "ruzan_test is ruzan\n",
      "emm_test is Unknown\n",
      "amol_test is amol\n",
      "ruzan2_test is ruzan\n",
      "obama_test is obama\n"
     ]
    }
   ],
   "source": [
    "for test_image in test_images:\n",
    "    test_image_model = face_recognition.load_image_file(test_image)\n",
    "    test_image_encoding = face_recognition.face_encodings(test_image_model)[0]\n",
    "    face_distances = face_recognition.face_distance(train_image_models, test_image_encoding)\n",
    "    test_image_name = get_image_name_from_path(test_image)\n",
    "    min_face_distance_idx = np.argmin(face_distances)\n",
    "    if face_distances[min_face_distance_idx] <= THRESHOLD:\n",
    "        correct_image_name = get_image_name_from_path(train_images[min_face_distance_idx])\n",
    "        print(\"{} is {}\".format(test_image_name,correct_image_name))\n",
    "    else:\n",
    "        print(\"{} is Unknown\".format(test_image_name))"
   ]
  }
 ],
 "metadata": {
  "kernelspec": {
   "display_name": "Python 3",
   "language": "python",
   "name": "python3"
  },
  "language_info": {
   "codemirror_mode": {
    "name": "ipython",
    "version": 3
   },
   "file_extension": ".py",
   "mimetype": "text/x-python",
   "name": "python",
   "nbconvert_exporter": "python",
   "pygments_lexer": "ipython3",
   "version": "3.6.3"
  }
 },
 "nbformat": 4,
 "nbformat_minor": 2
}
